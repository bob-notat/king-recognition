{
 "cells": [
  {
   "cell_type": "code",
   "execution_count": 17,
   "metadata": {},
   "outputs": [],
   "source": [
    "import os\n",
    "import numpy as np\n",
    "import tensorflow as tf\n",
    "import json\n",
    "from tqdm import tqdm\n",
    "from PIL import Image\n",
    "\n",
    "\n",
    "from tensorflow.keras import datasets, layers, models\n",
    "from tensorflow.keras.preprocessing import image\n",
    "\n",
    "import matplotlib.pyplot as plt\n",
    "\n",
    "data_folder = 'tuile'"
   ]
  },
  {
   "cell_type": "code",
   "execution_count": 18,
   "metadata": {},
   "outputs": [],
   "source": [
    "def add_noise(x):\n",
    "    x = image.img_to_array(x)\n",
    "    x = x/255\n",
    "    noise_img = x + (np.random.rand(x.shape[0],x.shape[1],x.shape[2])-0.5)/5\n",
    "    noise_img = noise_img + random.randint(-50,50)/50\n",
    "    return image.array_to_img(noise_img)\n",
    "\n",
    "def add_margin(pil_img, top, right, bottom, left, color):\n",
    "    width, height = pil_img.size\n",
    "    new_width = width + right + left\n",
    "    new_height = height + top + bottom\n",
    "    result = Image.new(pil_img.mode, (new_width, new_height), color)\n",
    "    result.paste(pil_img, (left, top))\n",
    "    return result\n",
    "\n",
    "def add_random_margin(pil_img):\n",
    "    return add_margin(pil_img, random.randint(0,60), random.randint(0,60), random.randint(0,60), random.randint(0,60), (random.randint(0,264), random.randint(0,264), random.randint(0,264)))\n",
    "\n",
    "def get_concat_h(im1, im2):\n",
    "    dst = Image.new('RGB', (im1.width + im2.width, im1.height))\n",
    "    dst.paste(im1, (0, 0))\n",
    "    dst.paste(im2, (im1.width, 0))\n",
    "    return dst\n",
    "\n",
    "def get_concat_v(im1, im2):\n",
    "    dst = Image.new('RGB', (im1.width, im1.height + im2.height))\n",
    "    dst.paste(im1, (0, 0))\n",
    "    dst.paste(im2, (0, im1.height))\n",
    "    return dst"
   ]
  },
  {
   "cell_type": "code",
   "execution_count": 21,
   "metadata": {},
   "outputs": [
    {
     "name": "stdout",
     "output_type": "stream",
     "text": [
      "Wall time: 7min 49s\n"
     ]
    }
   ],
   "source": [
    "%%time\n",
    "import random\n",
    "list_of_choice = os.listdir(data_folder)\n",
    "database = {}\n",
    "\n",
    "for file_name in tqdm(range(10000)):\n",
    "    for j in range(5):\n",
    "\n",
    "        for k in range(5):\n",
    "            choice_land = random.choice(list_of_choice)\n",
    "            choice_land = choice_land.split('.')[0]\n",
    "            img_path = os.path.join(data_folder, choice_land + '.jpg')\n",
    "            new_img = image.load_img(img_path, target_size=(50, 50))\n",
    "            \n",
    "            new_img = add_noise(new_img)\n",
    "            \n",
    "            choice_land = ''.join([i for i in choice_land if not i.isdigit()])\n",
    "            if k == 0:\n",
    "                row = new_img\n",
    "                row_land = [choice_land]\n",
    "            else:\n",
    "                row = get_concat_h(row, new_img)\n",
    "                row_land += [choice_land]\n",
    "\n",
    "        if j == 0:\n",
    "            total_img = row\n",
    "            total_land = [row_land]\n",
    "        else:\n",
    "            total_img = get_concat_v(total_img, row)\n",
    "            total_land += [row_land]\n",
    "            \n",
    "    total_img = add_random_margin(total_img)\n",
    "    total_img = add_noise(total_img)\n",
    "    total_img = total_img.rotate(random.randint(-10,10))\n",
    "    total_img.save('data_train/' + str(file_name) + '.jpg')\n",
    "    database[str(file_name) + '.jpg'] = total_land\n",
    "        \n",
    "with open('database_train.json', 'w') as json_file:\n",
    "    json.dump(database, json_file, indent=4)"
   ]
  }
 ],
 "metadata": {
  "kernelspec": {
   "display_name": "Python 3",
   "language": "python",
   "name": "python3"
  },
  "language_info": {
   "codemirror_mode": {
    "name": "ipython",
    "version": 3
   },
   "file_extension": ".py",
   "mimetype": "text/x-python",
   "name": "python",
   "nbconvert_exporter": "python",
   "pygments_lexer": "ipython3",
   "version": "3.8.5"
  }
 },
 "nbformat": 4,
 "nbformat_minor": 4
}
