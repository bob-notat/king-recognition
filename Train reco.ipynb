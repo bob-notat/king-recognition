{
 "cells": [
  {
   "cell_type": "code",
   "execution_count": 1,
   "metadata": {},
   "outputs": [],
   "source": [
    "import os\n",
    "import numpy as np\n",
    "import tensorflow as tf\n",
    "import json\n",
    "import random\n",
    "import copy\n",
    "\n",
    "from tensorflow.keras import datasets, layers, models\n",
    "from tensorflow.keras.preprocessing import image\n",
    "from sklearn.metrics import f1_score\n",
    "\n",
    "import matplotlib.pyplot as plt\n",
    "\n",
    "data_folder = 'data_2'"
   ]
  },
  {
   "cell_type": "code",
   "execution_count": 2,
   "metadata": {},
   "outputs": [],
   "source": [
    "with open('database_2.json') as json_file:\n",
    "    y = json.load(json_file)\n",
    "    \n",
    "detect = 'F'"
   ]
  },
  {
   "cell_type": "code",
   "execution_count": 3,
   "metadata": {
    "scrolled": true
   },
   "outputs": [
    {
     "name": "stdout",
     "output_type": "stream",
     "text": [
      "Wall time: 23.1 s\n"
     ]
    }
   ],
   "source": [
    "%%time\n",
    "x_train = []\n",
    "y_train = []\n",
    "\n",
    "for file_name in os.listdir(data_folder):\n",
    "    img_path = os.path.join(data_folder, file_name)\n",
    "    img = image.load_img(img_path, target_size=(32, 32))\n",
    "    x = image.img_to_array(img)\n",
    "    x = x/255\n",
    "    \n",
    "    \"\"\"\n",
    "    plt.figure(figsize=(3,3))\n",
    "    plt.xticks([])\n",
    "    plt.yticks([])\n",
    "    plt.grid(False)\n",
    "    plt.imshow(x, cmap=plt.cm.binary)\n",
    "    plt.show()\n",
    "    \"\"\"\n",
    "    \n",
    "    x_train += [x]\n",
    "    y_train += [np.array(y[file_name])]\n",
    "    \n",
    "x_valid = np.array(x_train)[:1000]\n",
    "y_valid = np.array(y_train)[:1000]\n",
    "\n",
    "x_train = np.array(x_train)[1000:]\n",
    "y_train = np.array(y_train)[1000:]"
   ]
  },
  {
   "cell_type": "code",
   "execution_count": 4,
   "metadata": {},
   "outputs": [
    {
     "name": "stdout",
     "output_type": "stream",
     "text": [
      "Wall time: 719 ms\n"
     ]
    }
   ],
   "source": [
    "%%time\n",
    "x_train = np.append(x_train, np.rot90(x_train, 2, axes=(1,2)), axis=0)\n",
    "y_train = np.append(y_train, np.rot90(y_train, 2, axes=(1,2)), axis=0)\n",
    "x_train = np.append(x_train, np.rot90(x_train, 1, axes=(1,2)), axis=0)\n",
    "y_train = np.append(y_train, np.rot90(y_train, 1, axes=(1,2)), axis=0)"
   ]
  },
  {
   "cell_type": "code",
   "execution_count": 5,
   "metadata": {},
   "outputs": [
    {
     "name": "stdout",
     "output_type": "stream",
     "text": [
      "Wall time: 1.46 s\n"
     ]
    }
   ],
   "source": [
    "%%time\n",
    "def transform_y(y, transform_base=None):\n",
    "    y_flatten = []\n",
    "\n",
    "    for k in range(len(y)):\n",
    "        y_flatten += [y[k].flatten()]\n",
    "\n",
    "    y = np.array(y_flatten)\n",
    "\n",
    "    y_transformed = np.zeros(y.shape)\n",
    "    if transform_base is None:\n",
    "        transform_base = {}\n",
    "    alpha = 0\n",
    "\n",
    "    for k in range(len(y)):\n",
    "        for j in range(len(y[k])):\n",
    "            if y[k,j] not in transform_base.keys():\n",
    "                transform_base[y[k,j]] = alpha\n",
    "                alpha += 1\n",
    "\n",
    "            y_transformed[k, j] = transform_base[y[k,j]]\n",
    "            \n",
    "    return y_transformed, transform_base\n",
    "\n",
    "y_train_transformed, transform_base = transform_y(y_train)\n",
    "y_valid_transformed, transform_base = transform_y(y_valid, transform_base=transform_base)"
   ]
  },
  {
   "cell_type": "code",
   "execution_count": 6,
   "metadata": {},
   "outputs": [],
   "source": [
    "model = models.Sequential()\n",
    "model.add(layers.ZeroPadding2D((1,1), input_shape=(32, 32, 3)))\n",
    "model.add(layers.Conv2D(32, (3, 3), activation='relu'))\n",
    "model.add(layers.MaxPooling2D((2, 2)))\n",
    "model.add(layers.ZeroPadding2D((1,1)))\n",
    "model.add(layers.Conv2D(64, (3, 3), activation='relu'))\n",
    "model.add(layers.MaxPooling2D((2, 2)))\n",
    "model.add(layers.ZeroPadding2D((1,1)))\n",
    "model.add(layers.Conv2D(64, (3, 3), activation='relu'))\n",
    "\n",
    "model.add(layers.Flatten())\n",
    "model.add(layers.Dense(64, activation='relu'))\n",
    "model.add(layers.Dense(25, activation='sigmoid'))"
   ]
  },
  {
   "cell_type": "code",
   "execution_count": 7,
   "metadata": {},
   "outputs": [],
   "source": [
    "y_train_O = (y_train_transformed == transform_base[detect]).astype(int)\n",
    "y_valid_O = (y_valid_transformed == transform_base[detect]).astype(int)"
   ]
  },
  {
   "cell_type": "code",
   "execution_count": 8,
   "metadata": {},
   "outputs": [
    {
     "name": "stdout",
     "output_type": "stream",
     "text": [
      "Epoch 1/15\n",
      "1125/1125 [==============================] - 45s 40ms/step - loss: 0.4215 - binary_accuracy: 0.8121 - val_loss: 0.2309 - val_binary_accuracy: 0.9050\n",
      "Epoch 2/15\n",
      "1125/1125 [==============================] - 46s 41ms/step - loss: 0.1783 - binary_accuracy: 0.9273 - val_loss: 0.1394 - val_binary_accuracy: 0.9430\n",
      "Epoch 3/15\n",
      "1125/1125 [==============================] - 44s 39ms/step - loss: 0.1084 - binary_accuracy: 0.9573 - val_loss: 0.0988 - val_binary_accuracy: 0.9614\n",
      "Epoch 4/15\n",
      "1125/1125 [==============================] - 46s 40ms/step - loss: 0.0784 - binary_accuracy: 0.9701 - val_loss: 0.0787 - val_binary_accuracy: 0.9709\n",
      "Epoch 5/15\n",
      "1125/1125 [==============================] - 45s 40ms/step - loss: 0.0613 - binary_accuracy: 0.9769 - val_loss: 0.0643 - val_binary_accuracy: 0.9751\n",
      "Epoch 6/15\n",
      "1125/1125 [==============================] - 44s 39ms/step - loss: 0.0502 - binary_accuracy: 0.9813 - val_loss: 0.0642 - val_binary_accuracy: 0.9753\n",
      "Epoch 7/15\n",
      "1125/1125 [==============================] - 32s 28ms/step - loss: 0.0417 - binary_accuracy: 0.9847 - val_loss: 0.0442 - val_binary_accuracy: 0.9834\n",
      "Epoch 8/15\n",
      "1125/1125 [==============================] - 32s 28ms/step - loss: 0.0271 - binary_accuracy: 0.9904 - val_loss: 0.0288 - val_binary_accuracy: 0.9892\n",
      "Epoch 9/15\n",
      "1125/1125 [==============================] - 32s 29ms/step - loss: 0.0185 - binary_accuracy: 0.9936 - val_loss: 0.0261 - val_binary_accuracy: 0.9902\n",
      "Epoch 10/15\n",
      "1125/1125 [==============================] - 34s 30ms/step - loss: 0.0154 - binary_accuracy: 0.9946 - val_loss: 0.0241 - val_binary_accuracy: 0.9915\n",
      "Epoch 11/15\n",
      "1125/1125 [==============================] - 35s 31ms/step - loss: 0.0141 - binary_accuracy: 0.9951 - val_loss: 0.0249 - val_binary_accuracy: 0.9920\n",
      "Epoch 12/15\n",
      "1125/1125 [==============================] - 34s 30ms/step - loss: 0.0114 - binary_accuracy: 0.9961 - val_loss: 0.0226 - val_binary_accuracy: 0.9926\n",
      "Epoch 13/15\n",
      "1125/1125 [==============================] - 33s 29ms/step - loss: 0.0100 - binary_accuracy: 0.9965 - val_loss: 0.0225 - val_binary_accuracy: 0.9925\n",
      "Epoch 14/15\n",
      "1125/1125 [==============================] - 33s 30ms/step - loss: 0.0092 - binary_accuracy: 0.9968 - val_loss: 0.0225 - val_binary_accuracy: 0.9927\n",
      "Epoch 15/15\n",
      "1125/1125 [==============================] - 34s 30ms/step - loss: 0.0088 - binary_accuracy: 0.9969 - val_loss: 0.0382 - val_binary_accuracy: 0.9868\n"
     ]
    }
   ],
   "source": [
    "model.compile(optimizer='adam',\n",
    "              loss='binary_crossentropy',\n",
    "              metrics=['binary_accuracy'])\n",
    "\n",
    "history = model.fit(x_train, y_train_O, epochs=15, validation_data=(x_valid, y_valid_O))"
   ]
  },
  {
   "cell_type": "code",
   "execution_count": 16,
   "metadata": {},
   "outputs": [
    {
     "data": {
      "text/plain": [
       "<matplotlib.legend.Legend at 0x25020997400>"
      ]
     },
     "execution_count": 16,
     "metadata": {},
     "output_type": "execute_result"
    },
    {
     "data": {
      "image/png": "[encoded data removed]",
      "text/plain": [
       "<Figure size 432x288 with 1 Axes>"
      ]
     },
     "metadata": {
      "needs_background": "light"
     },
     "output_type": "display_data"
    }
   ],
   "source": [
    "plt.plot(history.history['binary_accuracy'], label='accuracy')\n",
    "plt.xlabel('Epoch')\n",
    "plt.ylabel('Accuracy')\n",
    "plt.legend(loc='lower right')"
   ]
  },
  {
   "cell_type": "markdown",
   "metadata": {},
   "source": [
    "# Test sur des photos"
   ]
  },
  {
   "cell_type": "code",
   "execution_count": 10,
   "metadata": {},
   "outputs": [],
   "source": [
    "x_test = []\n",
    "y_test = []\n",
    "\n",
    "with open('database.json') as json_file:\n",
    "    y = json.load(json_file)\n",
    "\n",
    "for file_name in os.listdir('data'):\n",
    "    img_path = os.path.join('data', file_name)\n",
    "    img = image.load_img(img_path, target_size=(32, 32))\n",
    "    x = image.img_to_array(img)\n",
    "    x = x/255\n",
    "    \n",
    "    \"\"\"\n",
    "    plt.figure(figsize=(3,3))\n",
    "    plt.xticks([])\n",
    "    plt.yticks([])\n",
    "    plt.grid(False)\n",
    "    plt.imshow(x, cmap=plt.cm.binary)\n",
    "    plt.show()\n",
    "    \"\"\"\n",
    "    \n",
    "    x_test += [x]\n",
    "    y_test += [np.array(y[file_name])]\n",
    "    \n",
    "x_test = np.array(x_test)\n",
    "y_test_transformed, transform_base = transform_y(y_test, transform_base=transform_base)\n",
    "y_test_O = (y_test_transformed == transform_base[detect]).astype(int)"
   ]
  },
  {
   "cell_type": "code",
   "execution_count": 17,
   "metadata": {},
   "outputs": [
    {
     "data": {
      "text/plain": [
       "0.6162162162162163"
      ]
     },
     "execution_count": 17,
     "metadata": {},
     "output_type": "execute_result"
    }
   ],
   "source": [
    "f1_score(model.predict(x_test).round().flatten(),\n",
    "        y_test_O.flatten())"
   ]
  },
  {
   "cell_type": "code",
   "execution_count": 18,
   "metadata": {},
   "outputs": [],
   "source": [
    "random_y = copy.deepcopy(y_test_O.flatten())\n",
    "random.shuffle(random_y)"
   ]
  },
  {
   "cell_type": "code",
   "execution_count": 20,
   "metadata": {},
   "outputs": [
    {
     "data": {
      "text/plain": [
       "0.18421052631578946"
      ]
     },
     "execution_count": 20,
     "metadata": {},
     "output_type": "execute_result"
    }
   ],
   "source": [
    "f1_score(random_y,\n",
    "         y_test_O.flatten())"
   ]
  },
  {
   "cell_type": "code",
   "execution_count": 26,
   "metadata": {},
   "outputs": [
    {
     "data": {
      "image/png": "[encoded data removed]",
      "text/plain": [
       "<PIL.Image.Image image mode=RGB size=32x32 at 0x2500F00AB80>"
      ]
     },
     "execution_count": 26,
     "metadata": {},
     "output_type": "execute_result"
    }
   ],
   "source": [
    "image.array_to_img(x_test[2])"
   ]
  },
  {
   "cell_type": "code",
   "execution_count": 27,
   "metadata": {},
   "outputs": [
    {
     "data": {
      "text/plain": [
       "array([[0., 0., 0., 0., 0.],\n",
       "       [1., 0., 0., 0., 1.],\n",
       "       [1., 1., 0., 0., 0.],\n",
       "       [1., 1., 0., 1., 0.],\n",
       "       [1., 0., 0., 0., 0.]], dtype=float32)"
      ]
     },
     "execution_count": 27,
     "metadata": {},
     "output_type": "execute_result"
    }
   ],
   "source": [
    "model.predict(x_test).round()[2].reshape(5,5)"
   ]
  },
  {
   "cell_type": "code",
   "execution_count": null,
   "metadata": {},
   "outputs": [],
   "source": []
  }
 ],
 "metadata": {
  "kernelspec": {
   "display_name": "Python 3",
   "language": "python",
   "name": "python3"
  },
  "language_info": {
   "codemirror_mode": {
    "name": "ipython",
    "version": 3
   },
   "file_extension": ".py",
   "mimetype": "text/x-python",
   "name": "python",
   "nbconvert_exporter": "python",
   "pygments_lexer": "ipython3",
   "version": "3.8.5"
  }
 },
 "nbformat": 4,
 "nbformat_minor": 4
}
