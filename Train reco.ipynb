{
 "cells": [
  {
   "cell_type": "code",
   "execution_count": 18,
   "metadata": {},
   "outputs": [],
   "source": [
    "import os\n",
    "import numpy as np\n",
    "import tensorflow as tf\n",
    "import json\n",
    "import random\n",
    "import copy\n",
    "\n",
    "from tensorflow.keras import datasets, layers, models\n",
    "from tensorflow.keras.preprocessing import image\n",
    "from sklearn.metrics import f1_score\n",
    "\n",
    "import matplotlib.pyplot as plt\n",
    "\n",
    "data_folder = 'data_train'"
   ]
  },
  {
   "cell_type": "code",
   "execution_count": 19,
   "metadata": {},
   "outputs": [],
   "source": [
    "with open('database_train.json') as json_file:\n",
    "    y = json.load(json_file)\n",
    "    \n",
    "detect = 'F'"
   ]
  },
  {
   "cell_type": "code",
   "execution_count": 20,
   "metadata": {
    "scrolled": true
   },
   "outputs": [
    {
     "name": "stdout",
     "output_type": "stream",
     "text": [
      "Wall time: 20.3 s\n"
     ]
    }
   ],
   "source": [
    "%%time\n",
    "x_train = []\n",
    "y_train = []\n",
    "\n",
    "for file_name in os.listdir(data_folder):\n",
    "    img_path = os.path.join(data_folder, file_name)\n",
    "    img = image.load_img(img_path, target_size=(32, 32))\n",
    "    x = image.img_to_array(img)\n",
    "    x = x/255\n",
    "    \n",
    "    \"\"\"\n",
    "    plt.figure(figsize=(3,3))\n",
    "    plt.xticks([])\n",
    "    plt.yticks([])\n",
    "    plt.grid(False)\n",
    "    plt.imshow(x, cmap=plt.cm.binary)\n",
    "    plt.show()\n",
    "    \"\"\"\n",
    "    \n",
    "    x_train += [x]\n",
    "    y_train += [np.array(y[file_name])]\n",
    "    \n",
    "x_valid = np.array(x_train)[:1000]\n",
    "y_valid = np.array(y_train)[:1000]\n",
    "\n",
    "x_train = np.array(x_train)[1000:]\n",
    "y_train = np.array(y_train)[1000:]"
   ]
  },
  {
   "cell_type": "code",
   "execution_count": 21,
   "metadata": {},
   "outputs": [
    {
     "name": "stdout",
     "output_type": "stream",
     "text": [
      "Wall time: 613 ms\n"
     ]
    }
   ],
   "source": [
    "%%time\n",
    "x_train = np.append(x_train, np.rot90(x_train, 2, axes=(1,2)), axis=0)\n",
    "y_train = np.append(y_train, np.rot90(y_train, 2, axes=(1,2)), axis=0)\n",
    "x_train = np.append(x_train, np.rot90(x_train, 1, axes=(1,2)), axis=0)\n",
    "y_train = np.append(y_train, np.rot90(y_train, 1, axes=(1,2)), axis=0)"
   ]
  },
  {
   "cell_type": "code",
   "execution_count": 23,
   "metadata": {},
   "outputs": [
    {
     "name": "stdout",
     "output_type": "stream",
     "text": [
      "Wall time: 1.16 s\n"
     ]
    }
   ],
   "source": [
    "%%time  \n",
    "    \n",
    "def transform_y(y, transform_base=None):\n",
    "    y_flatten = []\n",
    "\n",
    "    for k in range(len(y)):\n",
    "        y_flatten += [y[k].flatten()]\n",
    "\n",
    "    y = np.array(y_flatten)\n",
    "\n",
    "    y_transformed = np.zeros(y.shape)\n",
    "    if transform_base is None:\n",
    "        transform_base = {}\n",
    "    alpha = 0\n",
    "\n",
    "    for k in range(len(y)):\n",
    "        for j in range(len(y[k])):\n",
    "            if y[k,j] not in transform_base.keys():\n",
    "                transform_base[y[k,j]] = alpha\n",
    "                alpha += 1\n",
    "\n",
    "            y_transformed[k, j] = transform_base[y[k,j]]\n",
    "            \n",
    "    return y_transformed, transform_base\n",
    "\n",
    "y_train_transformed, transform_base = transform_y(y_train)\n",
    "y_valid_transformed, transform_base = transform_y(y_valid, transform_base=transform_base)"
   ]
  },
  {
   "cell_type": "code",
   "execution_count": 34,
   "metadata": {},
   "outputs": [],
   "source": [
    "y_train_transformed = tf.one_hot(y_train_transformed, len(transform_base)).numpy()\n",
    "y_valid_transformed = tf.one_hot(y_valid_transformed, len(transform_base)).numpy()"
   ]
  },
  {
   "cell_type": "code",
   "execution_count": 75,
   "metadata": {},
   "outputs": [],
   "source": [
    "model = models.Sequential()\n",
    "model.add(layers.ZeroPadding2D((1,1), input_shape=(32, 32, 3)))\n",
    "model.add(layers.Conv2D(32, (3, 3), activation='relu'))\n",
    "model.add(layers.MaxPooling2D((2, 2)))\n",
    "model.add(layers.ZeroPadding2D((1,1)))\n",
    "model.add(layers.Conv2D(64, (3, 3), activation='relu'))\n",
    "model.add(layers.MaxPooling2D((2, 2)))\n",
    "model.add(layers.ZeroPadding2D((1,1)))\n",
    "model.add(layers.Conv2D(64, (3, 3), activation='relu'))\n",
    "\n",
    "model.add(layers.Flatten())\n",
    "model.add(layers.Dense(64, activation='relu'))\n",
    "model.add(layers.Dense(25*6, activation='sigmoid'))\n",
    "model.add(layers.Reshape((25, 6)))"
   ]
  },
  {
   "cell_type": "code",
   "execution_count": 76,
   "metadata": {},
   "outputs": [
    {
     "name": "stdout",
     "output_type": "stream",
     "text": [
      "Epoch 1/50\n",
      "1125/1125 [==============================] - 33s 30ms/step - loss: 1.6149 - categorical_crossentropy: 1.6149 - accuracy: 0.2956 - val_loss: 1.4636 - val_categorical_crossentropy: 1.4636 - val_accuracy: 0.3633\n",
      "Epoch 2/50\n",
      "1125/1125 [==============================] - 35s 31ms/step - loss: 1.3907 - categorical_crossentropy: 1.3907 - accuracy: 0.3897 - val_loss: 1.3360 - val_categorical_crossentropy: 1.3360 - val_accuracy: 0.4060\n",
      "Epoch 3/50\n",
      "1125/1125 [==============================] - 34s 30ms/step - loss: 1.2993 - categorical_crossentropy: 1.2993 - accuracy: 0.4217 - val_loss: 1.2704 - val_categorical_crossentropy: 1.2704 - val_accuracy: 0.4324\n",
      "Epoch 4/50\n",
      "1125/1125 [==============================] - 34s 30ms/step - loss: 1.2438 - categorical_crossentropy: 1.2438 - accuracy: 0.4415 - val_loss: 1.2151 - val_categorical_crossentropy: 1.2151 - val_accuracy: 0.4564\n",
      "Epoch 5/50\n",
      "1125/1125 [==============================] - 34s 30ms/step - loss: 1.2046 - categorical_crossentropy: 1.2046 - accuracy: 0.4561 - val_loss: 1.1904 - val_categorical_crossentropy: 1.1904 - val_accuracy: 0.4595\n",
      "Epoch 6/50\n",
      "1125/1125 [==============================] - 34s 30ms/step - loss: 1.1739 - categorical_crossentropy: 1.1739 - accuracy: 0.4682 - val_loss: 1.1529 - val_categorical_crossentropy: 1.1529 - val_accuracy: 0.4778\n",
      "Epoch 7/50\n",
      "1125/1125 [==============================] - 34s 30ms/step - loss: 1.1448 - categorical_crossentropy: 1.1448 - accuracy: 0.4814 - val_loss: 1.1305 - val_categorical_crossentropy: 1.1305 - val_accuracy: 0.4856\n",
      "Epoch 8/50\n",
      "1125/1125 [==============================] - 34s 30ms/step - loss: 1.1128 - categorical_crossentropy: 1.1128 - accuracy: 0.4972 - val_loss: 1.0925 - val_categorical_crossentropy: 1.0925 - val_accuracy: 0.5049\n",
      "Epoch 9/50\n",
      "1125/1125 [==============================] - 34s 30ms/step - loss: 1.0741 - categorical_crossentropy: 1.0741 - accuracy: 0.5171 - val_loss: 1.0650 - val_categorical_crossentropy: 1.0650 - val_accuracy: 0.5200\n",
      "Epoch 10/50\n",
      "1125/1125 [==============================] - 34s 31ms/step - loss: 1.0430 - categorical_crossentropy: 1.0430 - accuracy: 0.5357 - val_loss: 1.0406 - val_categorical_crossentropy: 1.0406 - val_accuracy: 0.5396\n",
      "Epoch 11/50\n",
      "1125/1125 [==============================] - 35s 31ms/step - loss: 1.0132 - categorical_crossentropy: 1.0132 - accuracy: 0.5527 - val_loss: 1.0010 - val_categorical_crossentropy: 1.0010 - val_accuracy: 0.5583\n",
      "Epoch 12/50\n",
      "1125/1125 [==============================] - 34s 31ms/step - loss: 0.9787 - categorical_crossentropy: 0.9787 - accuracy: 0.5697 - val_loss: 0.9896 - val_categorical_crossentropy: 0.9896 - val_accuracy: 0.5632\n",
      "Epoch 13/50\n",
      "1125/1125 [==============================] - 34s 31ms/step - loss: 0.9570 - categorical_crossentropy: 0.9570 - accuracy: 0.5797 - val_loss: 0.9604 - val_categorical_crossentropy: 0.9604 - val_accuracy: 0.5774\n",
      "Epoch 14/50\n",
      "1125/1125 [==============================] - 35s 31ms/step - loss: 0.9410 - categorical_crossentropy: 0.9410 - accuracy: 0.5875 - val_loss: 0.9726 - val_categorical_crossentropy: 0.9726 - val_accuracy: 0.5745\n",
      "Epoch 15/50\n",
      "1125/1125 [==============================] - 35s 31ms/step - loss: 0.9262 - categorical_crossentropy: 0.9262 - accuracy: 0.5940 - val_loss: 0.9447 - val_categorical_crossentropy: 0.9447 - val_accuracy: 0.5872\n",
      "Epoch 16/50\n",
      "1125/1125 [==============================] - 34s 31ms/step - loss: 0.9148 - categorical_crossentropy: 0.9148 - accuracy: 0.5996 - val_loss: 0.9365 - val_categorical_crossentropy: 0.9365 - val_accuracy: 0.5911\n",
      "Epoch 17/50\n",
      "1125/1125 [==============================] - 35s 31ms/step - loss: 0.9046 - categorical_crossentropy: 0.9046 - accuracy: 0.6047 - val_loss: 0.9347 - val_categorical_crossentropy: 0.9347 - val_accuracy: 0.5887\n",
      "Epoch 18/50\n",
      "1125/1125 [==============================] - 34s 31ms/step - loss: 0.8950 - categorical_crossentropy: 0.8950 - accuracy: 0.6090 - val_loss: 0.9198 - val_categorical_crossentropy: 0.9198 - val_accuracy: 0.6018\n",
      "Epoch 19/50\n",
      "1125/1125 [==============================] - 35s 31ms/step - loss: 0.8857 - categorical_crossentropy: 0.8857 - accuracy: 0.6131 - val_loss: 0.9094 - val_categorical_crossentropy: 0.9094 - val_accuracy: 0.6072\n",
      "Epoch 20/50\n",
      "1125/1125 [==============================] - 35s 31ms/step - loss: 0.8785 - categorical_crossentropy: 0.8785 - accuracy: 0.6163 - val_loss: 0.9084 - val_categorical_crossentropy: 0.9084 - val_accuracy: 0.6066\n",
      "Epoch 21/50\n",
      "1125/1125 [==============================] - 35s 31ms/step - loss: 0.8729 - categorical_crossentropy: 0.8729 - accuracy: 0.6188 - val_loss: 0.9211 - val_categorical_crossentropy: 0.9211 - val_accuracy: 0.6001\n",
      "Epoch 22/50\n",
      "1125/1125 [==============================] - 35s 31ms/step - loss: 0.8652 - categorical_crossentropy: 0.8652 - accuracy: 0.6225 - val_loss: 0.9089 - val_categorical_crossentropy: 0.9089 - val_accuracy: 0.6071\n",
      "Epoch 23/50\n",
      "1125/1125 [==============================] - 35s 31ms/step - loss: 0.8584 - categorical_crossentropy: 0.8584 - accuracy: 0.6253 - val_loss: 0.8918 - val_categorical_crossentropy: 0.8918 - val_accuracy: 0.6154\n",
      "Epoch 24/50\n",
      "1125/1125 [==============================] - 35s 31ms/step - loss: 0.8520 - categorical_crossentropy: 0.8520 - accuracy: 0.6284 - val_loss: 0.8911 - val_categorical_crossentropy: 0.8911 - val_accuracy: 0.6146\n",
      "Epoch 25/50\n",
      "1125/1125 [==============================] - 35s 31ms/step - loss: 0.8457 - categorical_crossentropy: 0.8457 - accuracy: 0.6308 - val_loss: 0.8771 - val_categorical_crossentropy: 0.8771 - val_accuracy: 0.6196\n",
      "Epoch 26/50\n",
      "1125/1125 [==============================] - 35s 31ms/step - loss: 0.8424 - categorical_crossentropy: 0.8424 - accuracy: 0.6322 - val_loss: 0.8731 - val_categorical_crossentropy: 0.8731 - val_accuracy: 0.6185\n",
      "Epoch 27/50\n",
      "1125/1125 [==============================] - 35s 31ms/step - loss: 0.8376 - categorical_crossentropy: 0.8376 - accuracy: 0.6339 - val_loss: 0.8760 - val_categorical_crossentropy: 0.8760 - val_accuracy: 0.6204\n",
      "Epoch 28/50\n",
      "1125/1125 [==============================] - 35s 31ms/step - loss: 0.8331 - categorical_crossentropy: 0.8331 - accuracy: 0.6360 - val_loss: 0.8862 - val_categorical_crossentropy: 0.8862 - val_accuracy: 0.6209\n",
      "Epoch 29/50\n",
      "1125/1125 [==============================] - 35s 31ms/step - loss: 0.8291 - categorical_crossentropy: 0.8291 - accuracy: 0.6378 - val_loss: 0.8705 - val_categorical_crossentropy: 0.8705 - val_accuracy: 0.6198\n",
      "Epoch 30/50\n",
      "1125/1125 [==============================] - 35s 31ms/step - loss: 0.8229 - categorical_crossentropy: 0.8229 - accuracy: 0.6409 - val_loss: 0.8832 - val_categorical_crossentropy: 0.8832 - val_accuracy: 0.6127\n",
      "Epoch 31/50\n",
      "1125/1125 [==============================] - 35s 31ms/step - loss: 0.8208 - categorical_crossentropy: 0.8208 - accuracy: 0.6412 - val_loss: 0.8586 - val_categorical_crossentropy: 0.8586 - val_accuracy: 0.6298\n",
      "Epoch 32/50\n",
      "1125/1125 [==============================] - 35s 31ms/step - loss: 0.8156 - categorical_crossentropy: 0.8156 - accuracy: 0.6438 - val_loss: 0.8696 - val_categorical_crossentropy: 0.8696 - val_accuracy: 0.6271\n",
      "Epoch 33/50\n",
      "1125/1125 [==============================] - 33s 29ms/step - loss: 0.8131 - categorical_crossentropy: 0.8131 - accuracy: 0.6445 - val_loss: 0.8571 - val_categorical_crossentropy: 0.8571 - val_accuracy: 0.6284\n",
      "Epoch 34/50\n",
      "1125/1125 [==============================] - 33s 29ms/step - loss: 0.8087 - categorical_crossentropy: 0.8087 - accuracy: 0.6467 - val_loss: 0.8604 - val_categorical_crossentropy: 0.8604 - val_accuracy: 0.6288\n",
      "Epoch 35/50\n",
      "1125/1125 [==============================] - 33s 29ms/step - loss: 0.8067 - categorical_crossentropy: 0.8067 - accuracy: 0.6472 - val_loss: 0.8612 - val_categorical_crossentropy: 0.8612 - val_accuracy: 0.6252\n",
      "Epoch 36/50\n",
      "1125/1125 [==============================] - 33s 29ms/step - loss: 0.8018 - categorical_crossentropy: 0.8018 - accuracy: 0.6493 - val_loss: 0.8476 - val_categorical_crossentropy: 0.8476 - val_accuracy: 0.6334\n",
      "Epoch 37/50\n",
      "1125/1125 [==============================] - 33s 29ms/step - loss: 0.7998 - categorical_crossentropy: 0.7998 - accuracy: 0.6501 - val_loss: 0.8538 - val_categorical_crossentropy: 0.8538 - val_accuracy: 0.6300\n",
      "Epoch 38/50\n"
     ]
    },
    {
     "name": "stdout",
     "output_type": "stream",
     "text": [
      "1125/1125 [==============================] - 32s 29ms/step - loss: 0.7968 - categorical_crossentropy: 0.7968 - accuracy: 0.6516 - val_loss: 0.8570 - val_categorical_crossentropy: 0.8570 - val_accuracy: 0.6301\n",
      "Epoch 39/50\n",
      "1125/1125 [==============================] - 32s 29ms/step - loss: 0.7936 - categorical_crossentropy: 0.7936 - accuracy: 0.6529 - val_loss: 0.8710 - val_categorical_crossentropy: 0.8710 - val_accuracy: 0.6246\n",
      "Epoch 40/50\n",
      "1125/1125 [==============================] - 32s 29ms/step - loss: 0.7917 - categorical_crossentropy: 0.7917 - accuracy: 0.6537 - val_loss: 0.8536 - val_categorical_crossentropy: 0.8536 - val_accuracy: 0.6311\n",
      "Epoch 41/50\n",
      "1125/1125 [==============================] - 32s 29ms/step - loss: 0.7895 - categorical_crossentropy: 0.7895 - accuracy: 0.6547 - val_loss: 0.8822 - val_categorical_crossentropy: 0.8822 - val_accuracy: 0.6210\n",
      "Epoch 42/50\n",
      "1125/1125 [==============================] - 32s 28ms/step - loss: 0.7873 - categorical_crossentropy: 0.7873 - accuracy: 0.6555 - val_loss: 0.8661 - val_categorical_crossentropy: 0.8661 - val_accuracy: 0.6266\n",
      "Epoch 43/50\n",
      "1125/1125 [==============================] - 32s 28ms/step - loss: 0.7842 - categorical_crossentropy: 0.7842 - accuracy: 0.6568 - val_loss: 0.8378 - val_categorical_crossentropy: 0.8378 - val_accuracy: 0.6412\n",
      "Epoch 44/50\n",
      "1125/1125 [==============================] - 32s 28ms/step - loss: 0.7818 - categorical_crossentropy: 0.7818 - accuracy: 0.6576 - val_loss: 0.8423 - val_categorical_crossentropy: 0.8423 - val_accuracy: 0.6359\n",
      "Epoch 45/50\n",
      "1125/1125 [==============================] - 32s 28ms/step - loss: 0.7786 - categorical_crossentropy: 0.7786 - accuracy: 0.6591 - val_loss: 0.8550 - val_categorical_crossentropy: 0.8550 - val_accuracy: 0.6332\n",
      "Epoch 46/50\n",
      "1125/1125 [==============================] - 32s 28ms/step - loss: 0.7765 - categorical_crossentropy: 0.7765 - accuracy: 0.6600 - val_loss: 0.8354 - val_categorical_crossentropy: 0.8354 - val_accuracy: 0.6412\n",
      "Epoch 47/50\n",
      "1125/1125 [==============================] - 32s 28ms/step - loss: 0.7751 - categorical_crossentropy: 0.7751 - accuracy: 0.6605 - val_loss: 0.8437 - val_categorical_crossentropy: 0.8437 - val_accuracy: 0.6356\n",
      "Epoch 48/50\n",
      "1125/1125 [==============================] - 32s 28ms/step - loss: 0.7725 - categorical_crossentropy: 0.7725 - accuracy: 0.6622 - val_loss: 0.8351 - val_categorical_crossentropy: 0.8351 - val_accuracy: 0.6416\n",
      "Epoch 49/50\n",
      "1125/1125 [==============================] - 32s 28ms/step - loss: 0.7706 - categorical_crossentropy: 0.7706 - accuracy: 0.6625 - val_loss: 0.8438 - val_categorical_crossentropy: 0.8438 - val_accuracy: 0.6398\n",
      "Epoch 50/50\n",
      "1125/1125 [==============================] - 32s 28ms/step - loss: 0.7707 - categorical_crossentropy: 0.7707 - accuracy: 0.6627 - val_loss: 0.8837 - val_categorical_crossentropy: 0.8837 - val_accuracy: 0.6226\n"
     ]
    }
   ],
   "source": [
    "model.compile(optimizer='adam',\n",
    "              loss='categorical_crossentropy',\n",
    "              metrics=['categorical_crossentropy', 'accuracy'])\n",
    "\n",
    "history = model.fit(x_train, y_train_transformed, epochs=50, validation_data=(x_valid, y_valid_transformed))"
   ]
  },
  {
   "cell_type": "code",
   "execution_count": 78,
   "metadata": {},
   "outputs": [
    {
     "data": {
      "text/plain": [
       "<matplotlib.legend.Legend at 0x21be244b520>"
      ]
     },
     "execution_count": 78,
     "metadata": {},
     "output_type": "execute_result"
    },
    {
     "data": {
      "image/png": "[encoded data removed]",
      "text/plain": [
       "<Figure size 432x288 with 1 Axes>"
      ]
     },
     "metadata": {
      "needs_background": "light"
     },
     "output_type": "display_data"
    }
   ],
   "source": [
    "plt.plot(history.history['accuracy'], label='accuracy')\n",
    "plt.plot(history.history['val_accuracy'], label='val_accuracy')\n",
    "plt.xlabel('Epoch')\n",
    "plt.ylabel('Accuracy')\n",
    "plt.legend(loc='lower right')"
   ]
  },
  {
   "cell_type": "markdown",
   "metadata": {},
   "source": [
    "# Test on real photos"
   ]
  },
  {
   "cell_type": "code",
   "execution_count": 71,
   "metadata": {},
   "outputs": [],
   "source": [
    "x_test = []\n",
    "y_test = []\n",
    "\n",
    "with open('database_test.json') as json_file:\n",
    "    y = json.load(json_file)\n",
    "\n",
    "for file_name in os.listdir('data_test'):\n",
    "    img_path = os.path.join('data_test', file_name)\n",
    "    img = image.load_img(img_path, target_size=(32, 32))\n",
    "    x = image.img_to_array(img)\n",
    "    x = x/255\n",
    "    \n",
    "    \"\"\"\n",
    "    plt.figure(figsize=(3,3))\n",
    "    plt.xticks([])\n",
    "    plt.yticks([])\n",
    "    plt.grid(False)\n",
    "    plt.imshow(x, cmap=plt.cm.binary)\n",
    "    plt.show()\n",
    "    \"\"\"\n",
    "    \n",
    "    x_test += [x]\n",
    "    y_test += [np.array(y[file_name])]\n",
    "    \n",
    "x_test = np.array(x_test)\n",
    "y_test_transformed, transform_base = transform_y(y_test, transform_base=transform_base)\n",
    "y_test_transformed = tf.one_hot(y_test_transformed, len(transform_base)).numpy()"
   ]
  },
  {
   "cell_type": "code",
   "execution_count": 72,
   "metadata": {},
   "outputs": [
    {
     "data": {
      "text/plain": [
       "array([[[0.49858055, 0.49496412, 0.5009385 , 0.4941021 , 0.4785577 ,\n",
       "         0.5022273 ],\n",
       "        [0.4901609 , 0.47787255, 0.4844085 , 0.48694322, 0.4938199 ,\n",
       "         0.49159458],\n",
       "        [0.4961271 , 0.5038982 , 0.50652635, 0.5039239 , 0.50321704,\n",
       "         0.49376994],\n",
       "        ...,\n",
       "        [0.50238615, 0.49851403, 0.48738912, 0.5091602 , 0.50009966,\n",
       "         0.49955824],\n",
       "        [0.50785065, 0.47365576, 0.5149184 , 0.49021417, 0.5040044 ,\n",
       "         0.50516343],\n",
       "        [0.4882153 , 0.4950676 , 0.5015637 , 0.48201135, 0.49664277,\n",
       "         0.5192462 ]],\n",
       "\n",
       "       [[0.50335515, 0.4986959 , 0.49921814, 0.5030459 , 0.47554672,\n",
       "         0.50285447],\n",
       "        [0.49478307, 0.48337254, 0.49110842, 0.48641175, 0.48641512,\n",
       "         0.49722144],\n",
       "        [0.49185333, 0.49759367, 0.50789505, 0.5072053 , 0.50788665,\n",
       "         0.49414682],\n",
       "        ...,\n",
       "        [0.5081789 , 0.4957648 , 0.48544022, 0.51201636, 0.50007385,\n",
       "         0.49836653],\n",
       "        [0.51061565, 0.47422564, 0.51208115, 0.48753536, 0.50249183,\n",
       "         0.50525904],\n",
       "        [0.48244527, 0.4970177 , 0.49670047, 0.4822311 , 0.5014999 ,\n",
       "         0.5230807 ]],\n",
       "\n",
       "       [[0.4995944 , 0.50016654, 0.49820733, 0.5022596 , 0.47522667,\n",
       "         0.5018683 ],\n",
       "        [0.49664184, 0.4799078 , 0.48899367, 0.48301622, 0.486976  ,\n",
       "         0.49463624],\n",
       "        [0.49611974, 0.4969181 , 0.50741947, 0.5066312 , 0.50903195,\n",
       "         0.49269313],\n",
       "        ...,\n",
       "        [0.5093965 , 0.49538562, 0.48857152, 0.5107352 , 0.4993551 ,\n",
       "         0.5013915 ],\n",
       "        [0.5116434 , 0.47273654, 0.5122203 , 0.48901358, 0.50510234,\n",
       "         0.5078209 ],\n",
       "        [0.48334092, 0.5001128 , 0.49957356, 0.48428524, 0.5019967 ,\n",
       "         0.5209432 ]],\n",
       "\n",
       "       ...,\n",
       "\n",
       "       [[0.4924455 , 0.50681895, 0.49989226, 0.5048953 , 0.48684356,\n",
       "         0.50078624],\n",
       "        [0.4893106 , 0.49452943, 0.49018145, 0.48519155, 0.49754024,\n",
       "         0.5009922 ],\n",
       "        [0.487828  , 0.5120706 , 0.5032857 , 0.5090051 , 0.50581276,\n",
       "         0.50201786],\n",
       "        ...,\n",
       "        [0.50222456, 0.4951976 , 0.4959365 , 0.5133415 , 0.4896653 ,\n",
       "         0.5011786 ],\n",
       "        [0.4995809 , 0.49192718, 0.50865036, 0.49653044, 0.5038541 ,\n",
       "         0.49750182],\n",
       "        [0.49103478, 0.49932337, 0.5008792 , 0.49411446, 0.50953126,\n",
       "         0.5151356 ]],\n",
       "\n",
       "       [[0.49507785, 0.49124968, 0.49346033, 0.5009553 , 0.46898583,\n",
       "         0.49724883],\n",
       "        [0.4990708 , 0.48085198, 0.48266634, 0.4784165 , 0.48665917,\n",
       "         0.4915116 ],\n",
       "        [0.49528873, 0.49279994, 0.5128447 , 0.50506115, 0.5074427 ,\n",
       "         0.4860554 ],\n",
       "        ...,\n",
       "        [0.50990015, 0.49544325, 0.48358727, 0.5171555 , 0.5021049 ,\n",
       "         0.4990206 ],\n",
       "        [0.5132679 , 0.46382695, 0.5130345 , 0.49329737, 0.50482786,\n",
       "         0.5094418 ],\n",
       "        [0.48599494, 0.4968595 , 0.50179404, 0.4847567 , 0.50139415,\n",
       "         0.5299034 ]],\n",
       "\n",
       "       [[0.49801806, 0.49787882, 0.49477947, 0.5003791 , 0.47526896,\n",
       "         0.49835643],\n",
       "        [0.49507266, 0.48307475, 0.48718128, 0.48493487, 0.4831894 ,\n",
       "         0.49245062],\n",
       "        [0.493153  , 0.4979637 , 0.51143926, 0.50265336, 0.51268417,\n",
       "         0.48959205],\n",
       "        ...,\n",
       "        [0.51139086, 0.49021086, 0.48285046, 0.51772684, 0.49408358,\n",
       "         0.49779758],\n",
       "        [0.5104766 , 0.4681934 , 0.5181519 , 0.48803207, 0.5088821 ,\n",
       "         0.5080417 ],\n",
       "        [0.48040926, 0.49764493, 0.50048333, 0.4830843 , 0.5062918 ,\n",
       "         0.5295302 ]]], dtype=float32)"
      ]
     },
     "execution_count": 72,
     "metadata": {},
     "output_type": "execute_result"
    }
   ],
   "source": [
    "model.predict(x_test)"
   ]
  },
  {
   "cell_type": "code",
   "execution_count": 56,
   "metadata": {},
   "outputs": [
    {
     "ename": "ValueError",
     "evalue": "Found input variables with inconsistent numbers of samples: [2250, 375]",
     "output_type": "error",
     "traceback": [
      "\u001b[1;31m---------------------------------------------------------------------------\u001b[0m",
      "\u001b[1;31mValueError\u001b[0m                                Traceback (most recent call last)",
      "\u001b[1;32m<ipython-input-56-a21cfa9cc1f6>\u001b[0m in \u001b[0;36m<module>\u001b[1;34m\u001b[0m\n\u001b[1;32m----> 1\u001b[1;33m f1_score(model.predict(x_test).round().flatten(),\n\u001b[0m\u001b[0;32m      2\u001b[0m         y_test_O.flatten())\n",
      "\u001b[1;32m~\\Miniconda3\\envs\\kingreco\\lib\\site-packages\\sklearn\\utils\\validation.py\u001b[0m in \u001b[0;36minner_f\u001b[1;34m(*args, **kwargs)\u001b[0m\n\u001b[0;32m     70\u001b[0m                           FutureWarning)\n\u001b[0;32m     71\u001b[0m         \u001b[0mkwargs\u001b[0m\u001b[1;33m.\u001b[0m\u001b[0mupdate\u001b[0m\u001b[1;33m(\u001b[0m\u001b[1;33m{\u001b[0m\u001b[0mk\u001b[0m\u001b[1;33m:\u001b[0m \u001b[0marg\u001b[0m \u001b[1;32mfor\u001b[0m \u001b[0mk\u001b[0m\u001b[1;33m,\u001b[0m \u001b[0marg\u001b[0m \u001b[1;32min\u001b[0m \u001b[0mzip\u001b[0m\u001b[1;33m(\u001b[0m\u001b[0msig\u001b[0m\u001b[1;33m.\u001b[0m\u001b[0mparameters\u001b[0m\u001b[1;33m,\u001b[0m \u001b[0margs\u001b[0m\u001b[1;33m)\u001b[0m\u001b[1;33m}\u001b[0m\u001b[1;33m)\u001b[0m\u001b[1;33m\u001b[0m\u001b[1;33m\u001b[0m\u001b[0m\n\u001b[1;32m---> 72\u001b[1;33m         \u001b[1;32mreturn\u001b[0m \u001b[0mf\u001b[0m\u001b[1;33m(\u001b[0m\u001b[1;33m**\u001b[0m\u001b[0mkwargs\u001b[0m\u001b[1;33m)\u001b[0m\u001b[1;33m\u001b[0m\u001b[1;33m\u001b[0m\u001b[0m\n\u001b[0m\u001b[0;32m     73\u001b[0m     \u001b[1;32mreturn\u001b[0m \u001b[0minner_f\u001b[0m\u001b[1;33m\u001b[0m\u001b[1;33m\u001b[0m\u001b[0m\n\u001b[0;32m     74\u001b[0m \u001b[1;33m\u001b[0m\u001b[0m\n",
      "\u001b[1;32m~\\Miniconda3\\envs\\kingreco\\lib\\site-packages\\sklearn\\metrics\\_classification.py\u001b[0m in \u001b[0;36mf1_score\u001b[1;34m(y_true, y_pred, labels, pos_label, average, sample_weight, zero_division)\u001b[0m\n\u001b[0;32m   1042\u001b[0m     \u001b[0mmodified\u001b[0m \u001b[1;32mwith\u001b[0m\u001b[0;31m \u001b[0m\u001b[0;31m`\u001b[0m\u001b[0;31m`\u001b[0m\u001b[0mzero_division\u001b[0m\u001b[0;31m`\u001b[0m\u001b[0;31m`\u001b[0m\u001b[1;33m.\u001b[0m\u001b[1;33m\u001b[0m\u001b[1;33m\u001b[0m\u001b[0m\n\u001b[0;32m   1043\u001b[0m     \"\"\"\n\u001b[1;32m-> 1044\u001b[1;33m     return fbeta_score(y_true, y_pred, beta=1, labels=labels,\n\u001b[0m\u001b[0;32m   1045\u001b[0m                        \u001b[0mpos_label\u001b[0m\u001b[1;33m=\u001b[0m\u001b[0mpos_label\u001b[0m\u001b[1;33m,\u001b[0m \u001b[0maverage\u001b[0m\u001b[1;33m=\u001b[0m\u001b[0maverage\u001b[0m\u001b[1;33m,\u001b[0m\u001b[1;33m\u001b[0m\u001b[1;33m\u001b[0m\u001b[0m\n\u001b[0;32m   1046\u001b[0m                        \u001b[0msample_weight\u001b[0m\u001b[1;33m=\u001b[0m\u001b[0msample_weight\u001b[0m\u001b[1;33m,\u001b[0m\u001b[1;33m\u001b[0m\u001b[1;33m\u001b[0m\u001b[0m\n",
      "\u001b[1;32m~\\Miniconda3\\envs\\kingreco\\lib\\site-packages\\sklearn\\utils\\validation.py\u001b[0m in \u001b[0;36minner_f\u001b[1;34m(*args, **kwargs)\u001b[0m\n\u001b[0;32m     70\u001b[0m                           FutureWarning)\n\u001b[0;32m     71\u001b[0m         \u001b[0mkwargs\u001b[0m\u001b[1;33m.\u001b[0m\u001b[0mupdate\u001b[0m\u001b[1;33m(\u001b[0m\u001b[1;33m{\u001b[0m\u001b[0mk\u001b[0m\u001b[1;33m:\u001b[0m \u001b[0marg\u001b[0m \u001b[1;32mfor\u001b[0m \u001b[0mk\u001b[0m\u001b[1;33m,\u001b[0m \u001b[0marg\u001b[0m \u001b[1;32min\u001b[0m \u001b[0mzip\u001b[0m\u001b[1;33m(\u001b[0m\u001b[0msig\u001b[0m\u001b[1;33m.\u001b[0m\u001b[0mparameters\u001b[0m\u001b[1;33m,\u001b[0m \u001b[0margs\u001b[0m\u001b[1;33m)\u001b[0m\u001b[1;33m}\u001b[0m\u001b[1;33m)\u001b[0m\u001b[1;33m\u001b[0m\u001b[1;33m\u001b[0m\u001b[0m\n\u001b[1;32m---> 72\u001b[1;33m         \u001b[1;32mreturn\u001b[0m \u001b[0mf\u001b[0m\u001b[1;33m(\u001b[0m\u001b[1;33m**\u001b[0m\u001b[0mkwargs\u001b[0m\u001b[1;33m)\u001b[0m\u001b[1;33m\u001b[0m\u001b[1;33m\u001b[0m\u001b[0m\n\u001b[0m\u001b[0;32m     73\u001b[0m     \u001b[1;32mreturn\u001b[0m \u001b[0minner_f\u001b[0m\u001b[1;33m\u001b[0m\u001b[1;33m\u001b[0m\u001b[0m\n\u001b[0;32m     74\u001b[0m \u001b[1;33m\u001b[0m\u001b[0m\n",
      "\u001b[1;32m~\\Miniconda3\\envs\\kingreco\\lib\\site-packages\\sklearn\\metrics\\_classification.py\u001b[0m in \u001b[0;36mfbeta_score\u001b[1;34m(y_true, y_pred, beta, labels, pos_label, average, sample_weight, zero_division)\u001b[0m\n\u001b[0;32m   1166\u001b[0m     \"\"\"\n\u001b[0;32m   1167\u001b[0m \u001b[1;33m\u001b[0m\u001b[0m\n\u001b[1;32m-> 1168\u001b[1;33m     _, _, f, _ = precision_recall_fscore_support(y_true, y_pred,\n\u001b[0m\u001b[0;32m   1169\u001b[0m                                                  \u001b[0mbeta\u001b[0m\u001b[1;33m=\u001b[0m\u001b[0mbeta\u001b[0m\u001b[1;33m,\u001b[0m\u001b[1;33m\u001b[0m\u001b[1;33m\u001b[0m\u001b[0m\n\u001b[0;32m   1170\u001b[0m                                                  \u001b[0mlabels\u001b[0m\u001b[1;33m=\u001b[0m\u001b[0mlabels\u001b[0m\u001b[1;33m,\u001b[0m\u001b[1;33m\u001b[0m\u001b[1;33m\u001b[0m\u001b[0m\n",
      "\u001b[1;32m~\\Miniconda3\\envs\\kingreco\\lib\\site-packages\\sklearn\\utils\\validation.py\u001b[0m in \u001b[0;36minner_f\u001b[1;34m(*args, **kwargs)\u001b[0m\n\u001b[0;32m     70\u001b[0m                           FutureWarning)\n\u001b[0;32m     71\u001b[0m         \u001b[0mkwargs\u001b[0m\u001b[1;33m.\u001b[0m\u001b[0mupdate\u001b[0m\u001b[1;33m(\u001b[0m\u001b[1;33m{\u001b[0m\u001b[0mk\u001b[0m\u001b[1;33m:\u001b[0m \u001b[0marg\u001b[0m \u001b[1;32mfor\u001b[0m \u001b[0mk\u001b[0m\u001b[1;33m,\u001b[0m \u001b[0marg\u001b[0m \u001b[1;32min\u001b[0m \u001b[0mzip\u001b[0m\u001b[1;33m(\u001b[0m\u001b[0msig\u001b[0m\u001b[1;33m.\u001b[0m\u001b[0mparameters\u001b[0m\u001b[1;33m,\u001b[0m \u001b[0margs\u001b[0m\u001b[1;33m)\u001b[0m\u001b[1;33m}\u001b[0m\u001b[1;33m)\u001b[0m\u001b[1;33m\u001b[0m\u001b[1;33m\u001b[0m\u001b[0m\n\u001b[1;32m---> 72\u001b[1;33m         \u001b[1;32mreturn\u001b[0m \u001b[0mf\u001b[0m\u001b[1;33m(\u001b[0m\u001b[1;33m**\u001b[0m\u001b[0mkwargs\u001b[0m\u001b[1;33m)\u001b[0m\u001b[1;33m\u001b[0m\u001b[1;33m\u001b[0m\u001b[0m\n\u001b[0m\u001b[0;32m     73\u001b[0m     \u001b[1;32mreturn\u001b[0m \u001b[0minner_f\u001b[0m\u001b[1;33m\u001b[0m\u001b[1;33m\u001b[0m\u001b[0m\n\u001b[0;32m     74\u001b[0m \u001b[1;33m\u001b[0m\u001b[0m\n",
      "\u001b[1;32m~\\Miniconda3\\envs\\kingreco\\lib\\site-packages\\sklearn\\metrics\\_classification.py\u001b[0m in \u001b[0;36mprecision_recall_fscore_support\u001b[1;34m(y_true, y_pred, beta, labels, pos_label, average, warn_for, sample_weight, zero_division)\u001b[0m\n\u001b[0;32m   1431\u001b[0m     \u001b[1;32mif\u001b[0m \u001b[0mbeta\u001b[0m \u001b[1;33m<\u001b[0m \u001b[1;36m0\u001b[0m\u001b[1;33m:\u001b[0m\u001b[1;33m\u001b[0m\u001b[1;33m\u001b[0m\u001b[0m\n\u001b[0;32m   1432\u001b[0m         \u001b[1;32mraise\u001b[0m \u001b[0mValueError\u001b[0m\u001b[1;33m(\u001b[0m\u001b[1;34m\"beta should be >=0 in the F-beta score\"\u001b[0m\u001b[1;33m)\u001b[0m\u001b[1;33m\u001b[0m\u001b[1;33m\u001b[0m\u001b[0m\n\u001b[1;32m-> 1433\u001b[1;33m     labels = _check_set_wise_labels(y_true, y_pred, average, labels,\n\u001b[0m\u001b[0;32m   1434\u001b[0m                                     pos_label)\n\u001b[0;32m   1435\u001b[0m \u001b[1;33m\u001b[0m\u001b[0m\n",
      "\u001b[1;32m~\\Miniconda3\\envs\\kingreco\\lib\\site-packages\\sklearn\\metrics\\_classification.py\u001b[0m in \u001b[0;36m_check_set_wise_labels\u001b[1;34m(y_true, y_pred, average, labels, pos_label)\u001b[0m\n\u001b[0;32m   1248\u001b[0m                          str(average_options))\n\u001b[0;32m   1249\u001b[0m \u001b[1;33m\u001b[0m\u001b[0m\n\u001b[1;32m-> 1250\u001b[1;33m     \u001b[0my_type\u001b[0m\u001b[1;33m,\u001b[0m \u001b[0my_true\u001b[0m\u001b[1;33m,\u001b[0m \u001b[0my_pred\u001b[0m \u001b[1;33m=\u001b[0m \u001b[0m_check_targets\u001b[0m\u001b[1;33m(\u001b[0m\u001b[0my_true\u001b[0m\u001b[1;33m,\u001b[0m \u001b[0my_pred\u001b[0m\u001b[1;33m)\u001b[0m\u001b[1;33m\u001b[0m\u001b[1;33m\u001b[0m\u001b[0m\n\u001b[0m\u001b[0;32m   1251\u001b[0m     \u001b[0mpresent_labels\u001b[0m \u001b[1;33m=\u001b[0m \u001b[0munique_labels\u001b[0m\u001b[1;33m(\u001b[0m\u001b[0my_true\u001b[0m\u001b[1;33m,\u001b[0m \u001b[0my_pred\u001b[0m\u001b[1;33m)\u001b[0m\u001b[1;33m\u001b[0m\u001b[1;33m\u001b[0m\u001b[0m\n\u001b[0;32m   1252\u001b[0m     \u001b[1;32mif\u001b[0m \u001b[0maverage\u001b[0m \u001b[1;33m==\u001b[0m \u001b[1;34m'binary'\u001b[0m\u001b[1;33m:\u001b[0m\u001b[1;33m\u001b[0m\u001b[1;33m\u001b[0m\u001b[0m\n",
      "\u001b[1;32m~\\Miniconda3\\envs\\kingreco\\lib\\site-packages\\sklearn\\metrics\\_classification.py\u001b[0m in \u001b[0;36m_check_targets\u001b[1;34m(y_true, y_pred)\u001b[0m\n\u001b[0;32m     79\u001b[0m     \u001b[0my_pred\u001b[0m \u001b[1;33m:\u001b[0m \u001b[0marray\u001b[0m \u001b[1;32mor\u001b[0m \u001b[0mindicator\u001b[0m \u001b[0mmatrix\u001b[0m\u001b[1;33m\u001b[0m\u001b[1;33m\u001b[0m\u001b[0m\n\u001b[0;32m     80\u001b[0m     \"\"\"\n\u001b[1;32m---> 81\u001b[1;33m     \u001b[0mcheck_consistent_length\u001b[0m\u001b[1;33m(\u001b[0m\u001b[0my_true\u001b[0m\u001b[1;33m,\u001b[0m \u001b[0my_pred\u001b[0m\u001b[1;33m)\u001b[0m\u001b[1;33m\u001b[0m\u001b[1;33m\u001b[0m\u001b[0m\n\u001b[0m\u001b[0;32m     82\u001b[0m     \u001b[0mtype_true\u001b[0m \u001b[1;33m=\u001b[0m \u001b[0mtype_of_target\u001b[0m\u001b[1;33m(\u001b[0m\u001b[0my_true\u001b[0m\u001b[1;33m)\u001b[0m\u001b[1;33m\u001b[0m\u001b[1;33m\u001b[0m\u001b[0m\n\u001b[0;32m     83\u001b[0m     \u001b[0mtype_pred\u001b[0m \u001b[1;33m=\u001b[0m \u001b[0mtype_of_target\u001b[0m\u001b[1;33m(\u001b[0m\u001b[0my_pred\u001b[0m\u001b[1;33m)\u001b[0m\u001b[1;33m\u001b[0m\u001b[1;33m\u001b[0m\u001b[0m\n",
      "\u001b[1;32m~\\Miniconda3\\envs\\kingreco\\lib\\site-packages\\sklearn\\utils\\validation.py\u001b[0m in \u001b[0;36mcheck_consistent_length\u001b[1;34m(*arrays)\u001b[0m\n\u001b[0;32m    253\u001b[0m     \u001b[0muniques\u001b[0m \u001b[1;33m=\u001b[0m \u001b[0mnp\u001b[0m\u001b[1;33m.\u001b[0m\u001b[0munique\u001b[0m\u001b[1;33m(\u001b[0m\u001b[0mlengths\u001b[0m\u001b[1;33m)\u001b[0m\u001b[1;33m\u001b[0m\u001b[1;33m\u001b[0m\u001b[0m\n\u001b[0;32m    254\u001b[0m     \u001b[1;32mif\u001b[0m \u001b[0mlen\u001b[0m\u001b[1;33m(\u001b[0m\u001b[0muniques\u001b[0m\u001b[1;33m)\u001b[0m \u001b[1;33m>\u001b[0m \u001b[1;36m1\u001b[0m\u001b[1;33m:\u001b[0m\u001b[1;33m\u001b[0m\u001b[1;33m\u001b[0m\u001b[0m\n\u001b[1;32m--> 255\u001b[1;33m         raise ValueError(\"Found input variables with inconsistent numbers of\"\n\u001b[0m\u001b[0;32m    256\u001b[0m                          \" samples: %r\" % [int(l) for l in lengths])\n\u001b[0;32m    257\u001b[0m \u001b[1;33m\u001b[0m\u001b[0m\n",
      "\u001b[1;31mValueError\u001b[0m: Found input variables with inconsistent numbers of samples: [2250, 375]"
     ]
    }
   ],
   "source": [
    "f1_score(model.predict(x_test).round().flatten(),\n",
    "        y_test_O.flatten())"
   ]
  },
  {
   "cell_type": "code",
   "execution_count": 12,
   "metadata": {},
   "outputs": [],
   "source": [
    "random_y = copy.deepcopy(y_test_O.flatten())\n",
    "random.shuffle(random_y)"
   ]
  },
  {
   "cell_type": "code",
   "execution_count": 13,
   "metadata": {},
   "outputs": [
    {
     "data": {
      "text/plain": [
       "0.2222222222222222"
      ]
     },
     "execution_count": 13,
     "metadata": {},
     "output_type": "execute_result"
    }
   ],
   "source": [
    "f1_score(random_y,\n",
    "         y_test_O.flatten())"
   ]
  },
  {
   "cell_type": "code",
   "execution_count": 16,
   "metadata": {},
   "outputs": [
    {
     "data": {
      "image/png": "[encoded data removed]",
      "text/plain": [
       "<PIL.Image.Image image mode=RGB size=32x32 at 0x21BD062A700>"
      ]
     },
     "execution_count": 16,
     "metadata": {},
     "output_type": "execute_result"
    }
   ],
   "source": [
    "image.array_to_img(x_test[2])"
   ]
  },
  {
   "cell_type": "code",
   "execution_count": 17,
   "metadata": {},
   "outputs": [
    {
     "data": {
      "text/plain": [
       "array([[0., 0., 0., 0., 0.],\n",
       "       [0., 0., 0., 0., 1.],\n",
       "       [0., 0., 0., 0., 0.],\n",
       "       [1., 0., 0., 1., 0.],\n",
       "       [0., 0., 0., 0., 0.]], dtype=float32)"
      ]
     },
     "execution_count": 17,
     "metadata": {},
     "output_type": "execute_result"
    }
   ],
   "source": [
    "model.predict(x_test).round()[2].reshape(5,5)"
   ]
  },
  {
   "cell_type": "code",
   "execution_count": null,
   "metadata": {},
   "outputs": [],
   "source": []
  }
 ],
 "metadata": {
  "kernelspec": {
   "display_name": "Python 3",
   "language": "python",
   "name": "python3"
  },
  "language_info": {
   "codemirror_mode": {
    "name": "ipython",
    "version": 3
   },
   "file_extension": ".py",
   "mimetype": "text/x-python",
   "name": "python",
   "nbconvert_exporter": "python",
   "pygments_lexer": "ipython3",
   "version": "3.8.5"
  }
 },
 "nbformat": 4,
 "nbformat_minor": 4
}
