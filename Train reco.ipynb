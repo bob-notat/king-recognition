{
 "cells": [
  {
   "cell_type": "code",
   "execution_count": 1,
   "metadata": {},
   "outputs": [],
   "source": [
    "import os\n",
    "import numpy as np\n",
    "import tensorflow as tf\n",
    "import json\n",
    "import random\n",
    "import copy\n",
    "\n",
    "from tensorflow.keras import datasets, layers, models\n",
    "from tensorflow.keras.preprocessing import image\n",
    "from sklearn.metrics import f1_score\n",
    "\n",
    "import matplotlib.pyplot as plt\n",
    "\n",
    "data_folder = 'data_train'"
   ]
  },
  {
   "cell_type": "code",
   "execution_count": 2,
   "metadata": {},
   "outputs": [],
   "source": [
    "with open('database_train.json') as json_file:\n",
    "    y = json.load(json_file)"
   ]
  },
  {
   "cell_type": "code",
   "execution_count": null,
   "metadata": {
    "scrolled": true
   },
   "outputs": [],
   "source": [
    "%%time\n",
    "x_train = []\n",
    "y_train = []\n",
    "\n",
    "for file_name in os.listdir(data_folder):\n",
    "    img_path = os.path.join(data_folder, file_name)\n",
    "    img = image.load_img(img_path, target_size=(32, 32))\n",
    "    x = image.img_to_array(img)\n",
    "    x = x/255\n",
    "    \n",
    "    \"\"\"\n",
    "    plt.figure(figsize=(3,3))\n",
    "    plt.xticks([])\n",
    "    plt.yticks([])\n",
    "    plt.grid(False)\n",
    "    plt.imshow(x, cmap=plt.cm.binary)\n",
    "    plt.show()\n",
    "    \"\"\"\n",
    "    \n",
    "    x_train += [x]\n",
    "    y_train += [np.array(y[file_name])]\n",
    "    \n",
    "x_valid = np.array(x_train)[:1000]\n",
    "y_valid = np.array(y_train)[:1000]\n",
    "\n",
    "x_train = np.array(x_train)[1000:]\n",
    "y_train = np.array(y_train)[1000:]"
   ]
  },
  {
   "cell_type": "code",
   "execution_count": null,
   "metadata": {},
   "outputs": [],
   "source": [
    "%%time\n",
    "x_train = np.append(x_train, np.rot90(x_train, 2, axes=(1,2)), axis=0)\n",
    "y_train = np.append(y_train, np.rot90(y_train, 2, axes=(1,2)), axis=0)\n",
    "x_train = np.append(x_train, np.rot90(x_train, 1, axes=(1,2)), axis=0)\n",
    "y_train = np.append(y_train, np.rot90(y_train, 1, axes=(1,2)), axis=0)"
   ]
  },
  {
   "cell_type": "code",
   "execution_count": null,
   "metadata": {},
   "outputs": [],
   "source": [
    "%%time  \n",
    "    \n",
    "def transform_y(y, transform_base=None):\n",
    "    y_flatten = []\n",
    "\n",
    "    for k in range(len(y)):\n",
    "        y_flatten += [y[k].flatten()]\n",
    "\n",
    "    y = np.array(y_flatten)\n",
    "\n",
    "    y_transformed = np.zeros(y.shape)\n",
    "    if transform_base is None:\n",
    "        transform_base = {}\n",
    "        \n",
    "    alpha = len(transform_base)\n",
    "\n",
    "    for k in range(len(y)):\n",
    "        for j in range(len(y[k])):\n",
    "            if y[k,j] not in transform_base.keys():\n",
    "                transform_base[y[k,j]] = alpha\n",
    "                alpha += 1\n",
    "\n",
    "            y_transformed[k, j] = transform_base[y[k,j]]\n",
    "            \n",
    "    return y_transformed, transform_base\n",
    "\n",
    "def untransform_y(y, transform_base):\n",
    "    transform_base_reverse = {}\n",
    "    for key, value in transform_base.items():\n",
    "        transform_base_reverse[value] = key\n",
    "    \n",
    "    y_untransformed = np.empty(y.shape, dtype='str')\n",
    "    for k in range(len(y)):\n",
    "        for j in range(len(y[k])):\n",
    "            y_untransformed[k, j] = transform_base_reverse[y[k,j]]\n",
    "    \n",
    "    return y_untransformed\n",
    "    \n",
    "    \n",
    "\n",
    "y_train_transformed, transform_base = transform_y(y_train)\n",
    "y_valid_transformed, transform_base = transform_y(y_valid, transform_base=transform_base)"
   ]
  },
  {
   "cell_type": "code",
   "execution_count": null,
   "metadata": {},
   "outputs": [],
   "source": [
    "y_train_transformed = tf.one_hot(y_train_transformed, len(transform_base)).numpy()\n",
    "y_valid_transformed = tf.one_hot(y_valid_transformed, len(transform_base)).numpy()"
   ]
  },
  {
   "cell_type": "code",
   "execution_count": null,
   "metadata": {},
   "outputs": [],
   "source": [
    "model = models.Sequential()\n",
    "model.add(layers.ZeroPadding2D((1,1), input_shape=(32, 32, 3)))\n",
    "model.add(layers.Conv2D(32, (3, 3), activation='relu'))\n",
    "model.add(layers.MaxPooling2D((2, 2)))\n",
    "model.add(layers.ZeroPadding2D((1,1)))\n",
    "model.add(layers.Conv2D(64, (3, 3), activation='relu'))\n",
    "model.add(layers.MaxPooling2D((2, 2)))\n",
    "model.add(layers.ZeroPadding2D((1,1)))\n",
    "model.add(layers.Conv2D(64, (3, 3), activation='relu'))\n",
    "\n",
    "model.add(layers.Flatten())\n",
    "model.add(layers.Dense(64, activation='relu'))\n",
    "model.add(layers.Dense(25*6, activation='sigmoid'))\n",
    "model.add(layers.Reshape((25, 6)))"
   ]
  },
  {
   "cell_type": "code",
   "execution_count": null,
   "metadata": {},
   "outputs": [],
   "source": [
    "model.compile(optimizer='adam',\n",
    "              loss='categorical_crossentropy',\n",
    "              metrics=['categorical_crossentropy', 'accuracy'])\n",
    "\n",
    "history = model.fit(x_train, y_train_transformed, epochs=50, validation_data=(x_valid, y_valid_transformed))"
   ]
  },
  {
   "cell_type": "code",
   "execution_count": null,
   "metadata": {},
   "outputs": [],
   "source": [
    "plt.plot(history.history['accuracy'], label='accuracy')\n",
    "plt.plot(history.history['val_accuracy'], label='val_accuracy')\n",
    "plt.xlabel('Epoch')\n",
    "plt.ylabel('Accuracy')\n",
    "plt.legend(loc='lower right')"
   ]
  },
  {
   "cell_type": "markdown",
   "metadata": {},
   "source": [
    "# Test on real photos"
   ]
  },
  {
   "cell_type": "code",
   "execution_count": null,
   "metadata": {},
   "outputs": [],
   "source": [
    "x_test = []\n",
    "y_test = []\n",
    "\n",
    "with open('database_test.json') as json_file:\n",
    "    y = json.load(json_file)\n",
    "\n",
    "for file_name in os.listdir('data_test'):\n",
    "    img_path = os.path.join('data_test', file_name)\n",
    "    img = image.load_img(img_path, target_size=(32, 32))\n",
    "    x = image.img_to_array(img)\n",
    "    x = x/255\n",
    "    \n",
    "    \"\"\"\n",
    "    plt.figure(figsize=(3,3))\n",
    "    plt.xticks([])\n",
    "    plt.yticks([])\n",
    "    plt.grid(False)\n",
    "    plt.imshow(x, cmap=plt.cm.binary)\n",
    "    plt.show()\n",
    "    \"\"\"\n",
    "    \n",
    "    x_test += [x]\n",
    "    y_test += [np.array(y[file_name])]\n",
    "    \n",
    "x_test = np.array(x_test)\n",
    "y_test_transformed, transform_base = transform_y(y_test, transform_base=transform_base)"
   ]
  },
  {
   "cell_type": "code",
   "execution_count": null,
   "metadata": {},
   "outputs": [],
   "source": [
    "y_test_transformed"
   ]
  },
  {
   "cell_type": "code",
   "execution_count": null,
   "metadata": {},
   "outputs": [],
   "source": [
    "y_predict = np.argmax(model.predict(x_test), axis=2)"
   ]
  },
  {
   "cell_type": "code",
   "execution_count": null,
   "metadata": {},
   "outputs": [],
   "source": [
    "f1_score(y_predict.flatten(),\n",
    "         y_test_transformed.flatten(), average='weighted')"
   ]
  },
  {
   "cell_type": "code",
   "execution_count": null,
   "metadata": {},
   "outputs": [],
   "source": [
    "random_y = copy.deepcopy(y_test_transformed.flatten())\n",
    "random.shuffle(random_y)"
   ]
  },
  {
   "cell_type": "code",
   "execution_count": null,
   "metadata": {},
   "outputs": [],
   "source": [
    "f1_score(random_y,\n",
    "         y_test_transformed.flatten(), average='weighted')"
   ]
  },
  {
   "cell_type": "code",
   "execution_count": null,
   "metadata": {},
   "outputs": [],
   "source": [
    "sample_image = image.array_to_img(x_test[1])\n",
    "x = image.img_to_array(sample_image)\n",
    "x = x/255\n",
    "    \n",
    "plt.figure(figsize=(3,3))\n",
    "plt.xticks([])\n",
    "plt.yticks([])\n",
    "plt.grid(False)\n",
    "plt.imshow(x, cmap=plt.cm.binary)\n",
    "plt.show()"
   ]
  },
  {
   "cell_type": "code",
   "execution_count": null,
   "metadata": {},
   "outputs": [],
   "source": [
    "sample_predict = np.argmax(model.predict(x_test), axis=2)[1].reshape(5,5)\n",
    "untransform_y(sample_predict, transform_base)"
   ]
  },
  {
   "cell_type": "code",
   "execution_count": null,
   "metadata": {},
   "outputs": [],
   "source": []
  }
 ],
 "metadata": {
  "kernelspec": {
   "display_name": "Python 3",
   "language": "python",
   "name": "python3"
  },
  "language_info": {
   "codemirror_mode": {
    "name": "ipython",
    "version": 3
   },
   "file_extension": ".py",
   "mimetype": "text/x-python",
   "name": "python",
   "nbconvert_exporter": "python",
   "pygments_lexer": "ipython3",
   "version": "3.8.5"
  }
 },
 "nbformat": 4,
 "nbformat_minor": 4
}
